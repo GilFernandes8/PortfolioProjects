{
 "cells": [
  {
   "cell_type": "code",
   "execution_count": 1,
   "id": "f89a2f5f",
   "metadata": {},
   "outputs": [],
   "source": [
    "# Reads a file of records, sorts them, and then writes them back to the file. \n",
    "# Allow the user to choose various sort style and sorting based on a particular field."
   ]
  },
  {
   "cell_type": "code",
   "execution_count": 2,
   "id": "4bc4c703",
   "metadata": {},
   "outputs": [
    {
     "data": {
      "text/plain": [
       "'C:\\\\Users\\\\Gil_0\\\\Documents\\\\Python Scripts\\\\final capstone'"
      ]
     },
     "execution_count": 2,
     "metadata": {},
     "output_type": "execute_result"
    }
   ],
   "source": [
    "import os\n",
    "import pandas as pd\n",
    "os.getcwd()"
   ]
  },
  {
   "cell_type": "code",
   "execution_count": 9,
   "id": "2448e248",
   "metadata": {},
   "outputs": [
    {
     "name": "stdout",
     "output_type": "stream",
     "text": [
      "Enter location/name of file \n",
      "test_batatita.csv\n",
      "     Unnamed: 0   id first_name    last_name                          email  \\\n",
      "0           219  220   Albrecht        Airds            aairds63@drupal.org   \n",
      "1           646  647      Abbie       Allett      aalletthy@accuweather.com   \n",
      "2           944  945      Aaron     Antonsen     aantonsenq8@whitehouse.gov   \n",
      "3           660  661       Alex         Ayce                aayceic@mail.ru   \n",
      "4           356  357      Aaron        Baker            abaker9w@spiegel.de   \n",
      "..          ...  ...        ...          ...                            ...   \n",
      "995         881  882      Yorke       Hurran           yhurranoh@flickr.com   \n",
      "996         814  815       Yuma  Tattershall      ytattershallmm@spiegel.de   \n",
      "997         404  405       York      Tockell       ytockellb8@moonfruit.com   \n",
      "998         469  470      Zorah    MacMenemy  zmacmenemyd1@seattletimes.com   \n",
      "999         824  825      Zelig  Sparrowhawk       zsparrowhawkmw@vimeo.com   \n",
      "\n",
      "     gender       ip_address              city  \n",
      "0      Male  209.213.159.128  Palaiomonástiron  \n",
      "1    Female     14.20.177.82       Delgermörön  \n",
      "2      Male     0.192.253.81       Białobrzegi  \n",
      "3    Female   50.148.243.117           Sankeng  \n",
      "4      Male   218.209.50.211       Bandarbeyla  \n",
      "..      ...              ...               ...  \n",
      "995    Male    153.15.188.46            Klokot  \n",
      "996    Male     115.219.51.8          Paris 17  \n",
      "997    Male  193.255.184.166       Andrushivka  \n",
      "998  Female     207.96.93.51      Olival Basto  \n",
      "999    Male   108.125.27.193         Kolochava  \n",
      "\n",
      "[1000 rows x 8 columns]\n"
     ]
    }
   ],
   "source": [
    "#souce info\n",
    "file = input('Enter location/name of file \\n')\n",
    "file2 = pd.read_csv(file)\n",
    "print(file2)"
   ]
  },
  {
   "cell_type": "code",
   "execution_count": 5,
   "id": "d9dcd4bc",
   "metadata": {},
   "outputs": [
    {
     "name": "stdout",
     "output_type": "stream",
     "text": [
      "sort by: email\n",
      "      id first_name    last_name                          email  gender  \\\n",
      "219  220   Albrecht        Airds            aairds63@drupal.org    Male   \n",
      "646  647      Abbie       Allett      aalletthy@accuweather.com  Female   \n",
      "944  945      Aaron     Antonsen     aantonsenq8@whitehouse.gov    Male   \n",
      "660  661       Alex         Ayce                aayceic@mail.ru  Female   \n",
      "356  357      Aaron        Baker            abaker9w@spiegel.de    Male   \n",
      "..   ...        ...          ...                            ...     ...   \n",
      "881  882      Yorke       Hurran           yhurranoh@flickr.com    Male   \n",
      "814  815       Yuma  Tattershall      ytattershallmm@spiegel.de    Male   \n",
      "404  405       York      Tockell       ytockellb8@moonfruit.com    Male   \n",
      "469  470      Zorah    MacMenemy  zmacmenemyd1@seattletimes.com  Female   \n",
      "824  825      Zelig  Sparrowhawk       zsparrowhawkmw@vimeo.com    Male   \n",
      "\n",
      "          ip_address              city  \n",
      "219  209.213.159.128  Palaiomonástiron  \n",
      "646     14.20.177.82       Delgermörön  \n",
      "944     0.192.253.81       Białobrzegi  \n",
      "660   50.148.243.117           Sankeng  \n",
      "356   218.209.50.211       Bandarbeyla  \n",
      "..               ...               ...  \n",
      "881    153.15.188.46            Klokot  \n",
      "814     115.219.51.8          Paris 17  \n",
      "404  193.255.184.166       Andrushivka  \n",
      "469     207.96.93.51      Olival Basto  \n",
      "824   108.125.27.193         Kolochava  \n",
      "\n",
      "[1000 rows x 7 columns]\n"
     ]
    }
   ],
   "source": [
    "#sort Info\n",
    "sortq = input(\"sort by: \")\n",
    "file3 = file2.sort_values(sortq)\n",
    "print(file3)"
   ]
  },
  {
   "cell_type": "code",
   "execution_count": 6,
   "id": "ab5faaf0",
   "metadata": {},
   "outputs": [
    {
     "name": "stdout",
     "output_type": "stream",
     "text": [
      "enter destination and filename you wish to store as test_batatita.csv\n"
     ]
    }
   ],
   "source": [
    "#destination info\n",
    "dest = input(\"enter destination and filename you wish to store as \")\n",
    "file3.to_csv(dest)"
   ]
  },
  {
   "cell_type": "code",
   "execution_count": null,
   "id": "8a54a7bb",
   "metadata": {},
   "outputs": [],
   "source": []
  }
 ],
 "metadata": {
  "kernelspec": {
   "display_name": "Python 3 (ipykernel)",
   "language": "python",
   "name": "python3"
  },
  "language_info": {
   "codemirror_mode": {
    "name": "ipython",
    "version": 3
   },
   "file_extension": ".py",
   "mimetype": "text/x-python",
   "name": "python",
   "nbconvert_exporter": "python",
   "pygments_lexer": "ipython3",
   "version": "3.11.4"
  }
 },
 "nbformat": 4,
 "nbformat_minor": 5
}
